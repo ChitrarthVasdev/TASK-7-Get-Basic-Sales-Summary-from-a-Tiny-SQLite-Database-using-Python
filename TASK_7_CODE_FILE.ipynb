{
  "nbformat": 4,
  "nbformat_minor": 0,
  "metadata": {
    "colab": {
      "provenance": [],
      "authorship_tag": "ABX9TyO6j2nEPxYmELgSVju6oE5t",
      "include_colab_link": true
    },
    "kernelspec": {
      "name": "python3",
      "display_name": "Python 3"
    },
    "language_info": {
      "name": "python"
    }
  },
  "cells": [
    {
      "cell_type": "markdown",
      "metadata": {
        "id": "view-in-github",
        "colab_type": "text"
      },
      "source": [
        "<a href=\"https://colab.research.google.com/github/ChitrarthVasdev/TASK-7-Get-Basic-Sales-Summary-from-a-Tiny-SQLite-Database-using-Python/blob/main/TASK_7_CODE_FILE.ipynb\" target=\"_parent\"><img src=\"https://colab.research.google.com/assets/colab-badge.svg\" alt=\"Open In Colab\"/></a>"
      ]
    },
    {
      "cell_type": "code",
      "execution_count": 10,
      "metadata": {
        "id": "YCmolPkYkXLP"
      },
      "outputs": [],
      "source": [
        "# Step 1: Import Libraries\n",
        "\n",
        "import sqlite3\n",
        "import pandas as pd\n",
        "import matplotlib.pyplot as plt\n"
      ]
    },
    {
      "cell_type": "code",
      "source": [
        "# Step 2: Create SQLite Database & Sales Table\n",
        "\n",
        "conn = sqlite3.connect('sales_data.db')\n",
        "cursor = conn.cursor()\n",
        "\n",
        "# Drop table if exists (to rerun cleanly)\n",
        "cursor.execute(\"DROP TABLE IF EXISTS sales\")\n",
        "\n",
        "# Create table\n",
        "cursor.execute('''\n",
        "    CREATE TABLE sales (\n",
        "        id INTEGER PRIMARY KEY AUTOINCREMENT,\n",
        "        product TEXT,\n",
        "        quantity INTEGER,\n",
        "        price REAL\n",
        "    )\n",
        "''')\n"
      ],
      "metadata": {
        "colab": {
          "base_uri": "https://localhost:8080/"
        },
        "id": "N9Mx60sHwhR3",
        "outputId": "e1116480-b398-4257-ba4c-3750f4af3854"
      },
      "execution_count": 11,
      "outputs": [
        {
          "output_type": "execute_result",
          "data": {
            "text/plain": [
              "<sqlite3.Cursor at 0x7dc33d008ec0>"
            ]
          },
          "metadata": {},
          "execution_count": 11
        }
      ]
    },
    {
      "cell_type": "code",
      "source": [
        "# Step 3: Insert Larger Sample Data (100+ rows)\n",
        "\n",
        "sample_sales = [\n",
        "    (\"T-shirt\", 10, 15.0),\n",
        "    (\"T-shirt\", 5, 15.0),\n",
        "    (\"Jeans\", 8, 40.0),\n",
        "    (\"Hoodie\", 3, 35.0),\n",
        "    (\"Cap\", 12, 10.0),\n",
        "    (\"Hoodie\", 4, 35.0),\n",
        "    (\"Jeans\", 6, 40.0),\n",
        "    (\"Cap\", 5, 10.0),\n",
        "    (\"Shoes\", 7, 75.0),\n",
        "    (\"Shoes\", 4, 75.0)\n",
        "]\n",
        "\n",
        "# Insert into the table\n",
        "cursor.executemany(\"INSERT INTO sales (product, quantity, price) VALUES (?, ?, ?)\", sample_sales)\n",
        "conn.commit()\n",
        "\n"
      ],
      "metadata": {
        "id": "BiywlX9bwl68"
      },
      "execution_count": 12,
      "outputs": []
    },
    {
      "cell_type": "code",
      "source": [
        "# Step 4: Run SQL Query – Get Summary by Product\n",
        "\n",
        "query = \"\"\"\n",
        "    SELECT\n",
        "        product,\n",
        "        SUM(quantity) AS total_qty,\n",
        "        ROUND(SUM(quantity * price), 2) AS total_revenue\n",
        "    FROM sales\n",
        "    GROUP BY product\n",
        "\"\"\"\n",
        "\n",
        "# Execute and load into DataFrame\n",
        "df = pd.read_sql_query(query, conn)\n",
        "\n",
        "print(\"📊 Basic Sales Summary:\\n\")\n",
        "print(df)\n",
        "\n"
      ],
      "metadata": {
        "colab": {
          "base_uri": "https://localhost:8080/"
        },
        "id": "n61_9qqpwyry",
        "outputId": "f2490fcd-27d4-4598-f939-32bc625e25c4"
      },
      "execution_count": 16,
      "outputs": [
        {
          "output_type": "stream",
          "name": "stdout",
          "text": [
            "📊 Basic Sales Summary:\n",
            "\n",
            "   product  total_qty  total_revenue\n",
            "0      Cap         17          170.0\n",
            "1   Hoodie          7          245.0\n",
            "2    Jeans         14          560.0\n",
            "3    Shoes         11          825.0\n",
            "4  T-shirt         15          225.0\n"
          ]
        }
      ]
    },
    {
      "cell_type": "code",
      "source": [
        "# Step 5: Plot Bar Chart of Revenue by Product\n",
        "\n",
        "plt.figure(figsize=(10, 6))\n",
        "\n",
        "# Generate a unique color for each bar (same length as number of products)\n",
        "colors = plt.cm.Set1(range(len(df)))\n",
        "\n",
        "df.plot(kind='bar',x='product',y='total_revenue',color=colors,legend=False)\n",
        "\n",
        "plt.title(\"Total Revenue by Product\")\n",
        "plt.xlabel(\"Product\")\n",
        "plt.ylabel(\"Revenue\")\n",
        "plt.xticks(rotation=45)\n",
        "plt.tight_layout()\n",
        "plt.savefig(\"sales_chart.png\")\n",
        "plt.show()\n"
      ],
      "metadata": {
        "colab": {
          "base_uri": "https://localhost:8080/",
          "height": 504
        },
        "id": "Mu2FSsg_0DZZ",
        "outputId": "7ee3827f-9a93-41c7-ee3b-657c5a0c7e6d"
      },
      "execution_count": 27,
      "outputs": [
        {
          "output_type": "display_data",
          "data": {
            "text/plain": [
              "<Figure size 1000x600 with 0 Axes>"
            ]
          },
          "metadata": {}
        },
        {
          "output_type": "display_data",
          "data": {
            "text/plain": [
              "<Figure size 640x480 with 1 Axes>"
            ],
            "image/png": "[encoded data removed]"
          },
          "metadata": {}
        }
      ]
    },
    {
      "cell_type": "code",
      "source": [
        "# Step 6: Close the Connection\n",
        "\n",
        "conn.close()\n"
      ],
      "metadata": {
        "id": "2PxLR9rtxDPB"
      },
      "execution_count": 28,
      "outputs": []
    }
  ]
}